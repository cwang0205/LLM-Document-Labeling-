{
  "cells": [
    {
      "cell_type": "markdown",
      "metadata": {
        "id": "4H4d7yKgAMc6"
      },
      "source": [
        "# This script :\n",
        "1. imports files from a Google Drive folder;\n",
        "2. extracts text data and file name; and\n",
        "3. stores data for later use\n",
        "\n",
        "The script's text extraction process scans each PDF file with pdfplumber. If pdfplumber doesn't work (if the length of the extracted text is under 200 words), we also scan the file with an OCR engine (easyocr, which uses the GPU; or pytesseract, which doesn't use the GPU).\n",
        "\n",
        "The script utilizes a metastore.json file to track progress, so if your Colab shuts down mid-execution, you can resume text extraction from where you left off.\n",
        "\n",
        "The script outputs a csv file (extracted_text.csv) that stores the data in 3 columns: filename, text (extracted with pdfplumber), and ocr_text (extracted with easyocr)."
      ]
    },
    {
      "cell_type": "code",
      "execution_count": null,
      "metadata": {
        "id": "MwbcRcIrAwxT",
        "colab": {
          "base_uri": "https://localhost:8080/"
        },
        "outputId": "327b8721-873d-440b-80d5-9f6db7dd39fc"
      },
      "outputs": [
        {
          "output_type": "stream",
          "name": "stdout",
          "text": [
            "Collecting pdfplumber\n",
            "  Downloading pdfplumber-0.11.4-py3-none-any.whl.metadata (41 kB)\n",
            "\u001b[?25l     \u001b[90m━━━━━━━━━━━━━━━━━━━━━━━━━━━━━━━━━━━━━━━━\u001b[0m \u001b[32m0.0/42.0 kB\u001b[0m \u001b[31m?\u001b[0m eta \u001b[36m-:--:--\u001b[0m\r\u001b[2K     \u001b[90m━━━━━━━━━━━━━━━━━━━━━━━━━━━━━━━━━━━━━━━━\u001b[0m \u001b[32m42.0/42.0 kB\u001b[0m \u001b[31m1.9 MB/s\u001b[0m eta \u001b[36m0:00:00\u001b[0m\n",
            "\u001b[?25hCollecting pytesseract\n",
            "  Downloading pytesseract-0.3.13-py3-none-any.whl.metadata (11 kB)\n",
            "Requirement already satisfied: opencv-python-headless in /usr/local/lib/python3.10/dist-packages (4.10.0.84)\n",
            "Collecting easyocr\n",
            "  Downloading easyocr-1.7.2-py3-none-any.whl.metadata (10 kB)\n",
            "Collecting pdfminer.six==20231228 (from pdfplumber)\n",
            "  Downloading pdfminer.six-20231228-py3-none-any.whl.metadata (4.2 kB)\n",
            "Requirement already satisfied: Pillow>=9.1 in /usr/local/lib/python3.10/dist-packages (from pdfplumber) (11.0.0)\n",
            "Collecting pypdfium2>=4.18.0 (from pdfplumber)\n",
            "  Downloading pypdfium2-4.30.1-py3-none-manylinux_2_17_x86_64.manylinux2014_x86_64.whl.metadata (48 kB)\n",
            "\u001b[2K     \u001b[90m━━━━━━━━━━━━━━━━━━━━━━━━━━━━━━━━━━━━━━━━\u001b[0m \u001b[32m48.2/48.2 kB\u001b[0m \u001b[31m3.5 MB/s\u001b[0m eta \u001b[36m0:00:00\u001b[0m\n",
            "\u001b[?25hRequirement already satisfied: charset-normalizer>=2.0.0 in /usr/local/lib/python3.10/dist-packages (from pdfminer.six==20231228->pdfplumber) (3.4.0)\n",
            "Requirement already satisfied: cryptography>=36.0.0 in /usr/local/lib/python3.10/dist-packages (from pdfminer.six==20231228->pdfplumber) (43.0.3)\n",
            "Requirement already satisfied: packaging>=21.3 in /usr/local/lib/python3.10/dist-packages (from pytesseract) (24.2)\n",
            "Requirement already satisfied: numpy>=1.21.2 in /usr/local/lib/python3.10/dist-packages (from opencv-python-headless) (1.26.4)\n",
            "Requirement already satisfied: torch in /usr/local/lib/python3.10/dist-packages (from easyocr) (2.5.1+cu121)\n",
            "Requirement already satisfied: torchvision>=0.5 in /usr/local/lib/python3.10/dist-packages (from easyocr) (0.20.1+cu121)\n",
            "Requirement already satisfied: scipy in /usr/local/lib/python3.10/dist-packages (from easyocr) (1.13.1)\n",
            "Requirement already satisfied: scikit-image in /usr/local/lib/python3.10/dist-packages (from easyocr) (0.25.0)\n",
            "Collecting python-bidi (from easyocr)\n",
            "  Downloading python_bidi-0.6.3-cp310-cp310-manylinux_2_17_x86_64.manylinux2014_x86_64.whl.metadata (4.9 kB)\n",
            "Requirement already satisfied: PyYAML in /usr/local/lib/python3.10/dist-packages (from easyocr) (6.0.2)\n",
            "Requirement already satisfied: Shapely in /usr/local/lib/python3.10/dist-packages (from easyocr) (2.0.6)\n",
            "Collecting pyclipper (from easyocr)\n",
            "  Downloading pyclipper-1.3.0.post6-cp310-cp310-manylinux_2_12_x86_64.manylinux2010_x86_64.whl.metadata (9.0 kB)\n",
            "Collecting ninja (from easyocr)\n",
            "  Downloading ninja-1.11.1.3-py3-none-manylinux_2_12_x86_64.manylinux2010_x86_64.whl.metadata (5.3 kB)\n",
            "Requirement already satisfied: filelock in /usr/local/lib/python3.10/dist-packages (from torch->easyocr) (3.16.1)\n",
            "Requirement already satisfied: typing-extensions>=4.8.0 in /usr/local/lib/python3.10/dist-packages (from torch->easyocr) (4.12.2)\n",
            "Requirement already satisfied: networkx in /usr/local/lib/python3.10/dist-packages (from torch->easyocr) (3.4.2)\n",
            "Requirement already satisfied: jinja2 in /usr/local/lib/python3.10/dist-packages (from torch->easyocr) (3.1.4)\n",
            "Requirement already satisfied: fsspec in /usr/local/lib/python3.10/dist-packages (from torch->easyocr) (2024.10.0)\n",
            "Requirement already satisfied: sympy==1.13.1 in /usr/local/lib/python3.10/dist-packages (from torch->easyocr) (1.13.1)\n",
            "Requirement already satisfied: mpmath<1.4,>=1.1.0 in /usr/local/lib/python3.10/dist-packages (from sympy==1.13.1->torch->easyocr) (1.3.0)\n",
            "Requirement already satisfied: imageio!=2.35.0,>=2.33 in /usr/local/lib/python3.10/dist-packages (from scikit-image->easyocr) (2.36.1)\n",
            "Requirement already satisfied: tifffile>=2022.8.12 in /usr/local/lib/python3.10/dist-packages (from scikit-image->easyocr) (2024.12.12)\n",
            "Requirement already satisfied: lazy-loader>=0.4 in /usr/local/lib/python3.10/dist-packages (from scikit-image->easyocr) (0.4)\n",
            "Requirement already satisfied: cffi>=1.12 in /usr/local/lib/python3.10/dist-packages (from cryptography>=36.0.0->pdfminer.six==20231228->pdfplumber) (1.17.1)\n",
            "Requirement already satisfied: MarkupSafe>=2.0 in /usr/local/lib/python3.10/dist-packages (from jinja2->torch->easyocr) (3.0.2)\n",
            "Requirement already satisfied: pycparser in /usr/local/lib/python3.10/dist-packages (from cffi>=1.12->cryptography>=36.0.0->pdfminer.six==20231228->pdfplumber) (2.22)\n",
            "Downloading pdfplumber-0.11.4-py3-none-any.whl (59 kB)\n",
            "\u001b[2K   \u001b[90m━━━━━━━━━━━━━━━━━━━━━━━━━━━━━━━━━━━━━━━━\u001b[0m \u001b[32m59.2/59.2 kB\u001b[0m \u001b[31m5.4 MB/s\u001b[0m eta \u001b[36m0:00:00\u001b[0m\n",
            "\u001b[?25hDownloading pdfminer.six-20231228-py3-none-any.whl (5.6 MB)\n",
            "\u001b[2K   \u001b[90m━━━━━━━━━━━━━━━━━━━━━━━━━━━━━━━━━━━━━━━━\u001b[0m \u001b[32m5.6/5.6 MB\u001b[0m \u001b[31m28.0 MB/s\u001b[0m eta \u001b[36m0:00:00\u001b[0m\n",
            "\u001b[?25hDownloading pytesseract-0.3.13-py3-none-any.whl (14 kB)\n",
            "Downloading easyocr-1.7.2-py3-none-any.whl (2.9 MB)\n",
            "\u001b[2K   \u001b[90m━━━━━━━━━━━━━━━━━━━━━━━━━━━━━━━━━━━━━━━━\u001b[0m \u001b[32m2.9/2.9 MB\u001b[0m \u001b[31m49.6 MB/s\u001b[0m eta \u001b[36m0:00:00\u001b[0m\n",
            "\u001b[?25hDownloading pypdfium2-4.30.1-py3-none-manylinux_2_17_x86_64.manylinux2014_x86_64.whl (2.9 MB)\n",
            "\u001b[2K   \u001b[90m━━━━━━━━━━━━━━━━━━━━━━━━━━━━━━━━━━━━━━━━\u001b[0m \u001b[32m2.9/2.9 MB\u001b[0m \u001b[31m62.4 MB/s\u001b[0m eta \u001b[36m0:00:00\u001b[0m\n",
            "\u001b[?25hDownloading ninja-1.11.1.3-py3-none-manylinux_2_12_x86_64.manylinux2010_x86_64.whl (422 kB)\n",
            "\u001b[2K   \u001b[90m━━━━━━━━━━━━━━━━━━━━━━━━━━━━━━━━━━━━━━━━\u001b[0m \u001b[32m422.9/422.9 kB\u001b[0m \u001b[31m30.1 MB/s\u001b[0m eta \u001b[36m0:00:00\u001b[0m\n",
            "\u001b[?25hDownloading pyclipper-1.3.0.post6-cp310-cp310-manylinux_2_12_x86_64.manylinux2010_x86_64.whl (912 kB)\n",
            "\u001b[2K   \u001b[90m━━━━━━━━━━━━━━━━━━━━━━━━━━━━━━━━━━━━━━━━\u001b[0m \u001b[32m912.2/912.2 kB\u001b[0m \u001b[31m39.9 MB/s\u001b[0m eta \u001b[36m0:00:00\u001b[0m\n",
            "\u001b[?25hDownloading python_bidi-0.6.3-cp310-cp310-manylinux_2_17_x86_64.manylinux2014_x86_64.whl (286 kB)\n",
            "\u001b[2K   \u001b[90m━━━━━━━━━━━━━━━━━━━━━━━━━━━━━━━━━━━━━━━━\u001b[0m \u001b[32m286.8/286.8 kB\u001b[0m \u001b[31m22.6 MB/s\u001b[0m eta \u001b[36m0:00:00\u001b[0m\n",
            "\u001b[?25hInstalling collected packages: python-bidi, pyclipper, pytesseract, pypdfium2, ninja, pdfminer.six, pdfplumber, easyocr\n",
            "Successfully installed easyocr-1.7.2 ninja-1.11.1.3 pdfminer.six-20231228 pdfplumber-0.11.4 pyclipper-1.3.0.post6 pypdfium2-4.30.1 pytesseract-0.3.13 python-bidi-0.6.3\n",
            "Reading package lists... Done\n",
            "Building dependency tree... Done\n",
            "Reading state information... Done\n",
            "The following additional packages will be installed:\n",
            "  tesseract-ocr-eng tesseract-ocr-osd\n",
            "The following NEW packages will be installed:\n",
            "  tesseract-ocr tesseract-ocr-eng tesseract-ocr-osd\n",
            "0 upgraded, 3 newly installed, 0 to remove and 49 not upgraded.\n",
            "Need to get 4,816 kB of archives.\n",
            "After this operation, 15.6 MB of additional disk space will be used.\n",
            "Get:1 http://archive.ubuntu.com/ubuntu jammy/universe amd64 tesseract-ocr-eng all 1:4.00~git30-7274cfa-1.1 [1,591 kB]\n",
            "Get:2 http://archive.ubuntu.com/ubuntu jammy/universe amd64 tesseract-ocr-osd all 1:4.00~git30-7274cfa-1.1 [2,990 kB]\n",
            "Get:3 http://archive.ubuntu.com/ubuntu jammy/universe amd64 tesseract-ocr amd64 4.1.1-2.1build1 [236 kB]\n",
            "Fetched 4,816 kB in 2s (3,087 kB/s)\n",
            "debconf: unable to initialize frontend: Dialog\n",
            "debconf: (No usable dialog-like program is installed, so the dialog based frontend cannot be used. at /usr/share/perl5/Debconf/FrontEnd/Dialog.pm line 78, <> line 3.)\n",
            "debconf: falling back to frontend: Readline\n",
            "debconf: unable to initialize frontend: Readline\n",
            "debconf: (This frontend requires a controlling tty.)\n",
            "debconf: falling back to frontend: Teletype\n",
            "dpkg-preconfigure: unable to re-open stdin: \n",
            "Selecting previously unselected package tesseract-ocr-eng.\n",
            "(Reading database ... 123634 files and directories currently installed.)\n",
            "Preparing to unpack .../tesseract-ocr-eng_1%3a4.00~git30-7274cfa-1.1_all.deb ...\n",
            "Unpacking tesseract-ocr-eng (1:4.00~git30-7274cfa-1.1) ...\n",
            "Selecting previously unselected package tesseract-ocr-osd.\n",
            "Preparing to unpack .../tesseract-ocr-osd_1%3a4.00~git30-7274cfa-1.1_all.deb ...\n",
            "Unpacking tesseract-ocr-osd (1:4.00~git30-7274cfa-1.1) ...\n",
            "Selecting previously unselected package tesseract-ocr.\n",
            "Preparing to unpack .../tesseract-ocr_4.1.1-2.1build1_amd64.deb ...\n",
            "Unpacking tesseract-ocr (4.1.1-2.1build1) ...\n",
            "Setting up tesseract-ocr-eng (1:4.00~git30-7274cfa-1.1) ...\n",
            "Setting up tesseract-ocr-osd (1:4.00~git30-7274cfa-1.1) ...\n",
            "Setting up tesseract-ocr (4.1.1-2.1build1) ...\n",
            "Processing triggers for man-db (2.10.2-1) ...\n",
            "Collecting pdf2image\n",
            "  Downloading pdf2image-1.17.0-py3-none-any.whl.metadata (6.2 kB)\n",
            "Requirement already satisfied: pillow in /usr/local/lib/python3.10/dist-packages (from pdf2image) (11.0.0)\n",
            "Downloading pdf2image-1.17.0-py3-none-any.whl (11 kB)\n",
            "Installing collected packages: pdf2image\n",
            "Successfully installed pdf2image-1.17.0\n",
            "Reading package lists... Done\n",
            "Building dependency tree... Done\n",
            "Reading state information... Done\n",
            "The following NEW packages will be installed:\n",
            "  poppler-utils\n",
            "0 upgraded, 1 newly installed, 0 to remove and 49 not upgraded.\n",
            "Need to get 186 kB of archives.\n",
            "After this operation, 696 kB of additional disk space will be used.\n",
            "Get:1 http://archive.ubuntu.com/ubuntu jammy-updates/main amd64 poppler-utils amd64 22.02.0-2ubuntu0.5 [186 kB]\n",
            "Fetched 186 kB in 1s (248 kB/s)\n",
            "Selecting previously unselected package poppler-utils.\n",
            "(Reading database ... 123681 files and directories currently installed.)\n",
            "Preparing to unpack .../poppler-utils_22.02.0-2ubuntu0.5_amd64.deb ...\n",
            "Unpacking poppler-utils (22.02.0-2ubuntu0.5) ...\n",
            "Setting up poppler-utils (22.02.0-2ubuntu0.5) ...\n",
            "Processing triggers for man-db (2.10.2-1) ...\n"
          ]
        }
      ],
      "source": [
        "!pip install pdfplumber pytesseract opencv-python-headless easyocr\n",
        "!sudo apt install tesseract-ocr\n",
        "!pip install pdf2image\n",
        "!apt-get install -y poppler-utils"
      ]
    },
    {
      "cell_type": "code",
      "execution_count": null,
      "metadata": {
        "id": "WrvsRdRTAGtI"
      },
      "outputs": [],
      "source": [
        "# PDF parsing imports\n",
        "import pdfplumber\n",
        "import easyocr # leverages GPU, so it's faster\n",
        "import pytesseract # does not leverage GPU (?), so it's slow\n",
        "\n",
        "# general imports\n",
        "import pandas as pd\n",
        "import numpy as np\n",
        "import io\n",
        "import re\n",
        "import tempfile\n",
        "import os\n",
        "\n",
        "from pdf2image import convert_from_path\n",
        "from PIL import Image\n",
        "\n",
        "from tqdm import tqdm  # For progress bar\n",
        "import json #for saving metadata\n",
        "import torch"
      ]
    },
    {
      "cell_type": "markdown",
      "metadata": {
        "id": "O0Tk8w7RAVnS"
      },
      "source": [
        "### Functions to import and process file"
      ]
    },
    {
      "cell_type": "code",
      "execution_count": null,
      "metadata": {
        "id": "fuXScmKkARGj"
      },
      "outputs": [],
      "source": [
        "# function to extract text from pdf using pdfplumber\n",
        "def extract_text_with_pdfplumber(pdf_path):\n",
        "  try:\n",
        "    with pdfplumber.open(pdf_path) as pdf:\n",
        "      text = ''\n",
        "      for page in pdf.pages:\n",
        "        text += page.extract_text() or '' # handle None returns\n",
        "      return text\n",
        "  except Exception as e:\n",
        "    print(f'pdfplumber error {e}')\n",
        "    return ''\n",
        "\n",
        "# function to extract text from pdf using OCR (easyocr)\n",
        "def extract_text_with_ocr(pdf_path):\n",
        "  try:\n",
        "      images = convert_from_path(pdf_path, dpi=75)  # adjust DPI if needed\n",
        "      text = ''\n",
        "      for image in images:\n",
        "          result = reader.readtext(np.array(image)) # convert image to numpy array for easyocr ingestion\n",
        "          extracted_text = ' '.join([detection[1] for detection in result])\n",
        "          text += extracted_text + ' '  # add space between lines/detections\n",
        "      return text\n",
        "  except Exception as e:\n",
        "      print(f'EasyOCR error: {e}')\n",
        "      return ''\n",
        "\n",
        "# function to load metadata (will help track progress on big project)\n",
        "def load_metadata(metadata_file):\n",
        "  try:\n",
        "    with open(metadata_file, 'r') as f:\n",
        "      return json.load(f)\n",
        "  except FileNotFoundError:\n",
        "    return {'processed_files':[], 'last_processed_index':-1}\n",
        "\n",
        "# function to save metadata (will help track progress on big project)\n",
        "def save_metadata(metadata, metadata_file):\n",
        "  with open(metadata_file, 'w') as f:\n",
        "    json.dump(metadata, f)"
      ]
    },
    {
      "cell_type": "markdown",
      "source": [
        "### Prep for main execution: mount Google Drive, establish file paths, check for GPU availability, and initialize OCR reader:"
      ],
      "metadata": {
        "id": "tu7Vk9vQj4LL"
      }
    },
    {
      "cell_type": "code",
      "execution_count": null,
      "metadata": {
        "colab": {
          "base_uri": "https://localhost:8080/"
        },
        "id": "SMFuPOblR6ZB",
        "outputId": "df787470-6e4e-4d57-bea5-ecdb10f81632"
      },
      "outputs": [
        {
          "output_type": "stream",
          "name": "stdout",
          "text": [
            "Mounted at /content/drive\n"
          ]
        }
      ],
      "source": [
        "# mount Google drive so we can access and save files with extracted text later on\n",
        "from google.colab import drive\n",
        "drive.mount('/content/drive')"
      ]
    },
    {
      "cell_type": "code",
      "execution_count": null,
      "metadata": {
        "colab": {
          "base_uri": "https://localhost:8080/"
        },
        "id": "3ae1qfy_Qwk0",
        "outputId": "86718e6f-f2fa-435f-ba8b-a086eda17e24"
      },
      "outputs": [
        {
          "output_type": "stream",
          "name": "stderr",
          "text": [
            "WARNING:easyocr.easyocr:Using CPU. Note: This module is much faster with a GPU.\n",
            "WARNING:easyocr.easyocr:Downloading detection model, please wait. This may take several minutes depending upon your network connection.\n"
          ]
        },
        {
          "output_type": "stream",
          "name": "stdout",
          "text": [
            "GPU is not available. Using CPU for OCR.\n",
            "Progress: |██████████████████████████████████████████████████| 100.0% Complete"
          ]
        },
        {
          "output_type": "stream",
          "name": "stderr",
          "text": [
            "WARNING:easyocr.easyocr:Downloading recognition model, please wait. This may take several minutes depending upon your network connection.\n"
          ]
        },
        {
          "output_type": "stream",
          "name": "stdout",
          "text": [
            "Progress: |██████████████████████████████████████████████████| 100.0% Complete"
          ]
        }
      ],
      "source": [
        "# paths\n",
        "pdf_folder = \"/content/drive/My Drive/polsky file split/folder_3\" # this is the source of our raw PDF files\n",
        "output_csv = '/content/drive/My Drive/polsky file split/export_3.csv' # this is where we'll keep our extracted text\n",
        "metadata_file = '/content/drive/My Drive/polsky file split/metadata.json' # for saving progress\n",
        "\n",
        "# check for GPU availability\n",
        "if torch.cuda.is_available():\n",
        "    print('GPU is available. Using GPU for OCR.')\n",
        "    device = 'cuda'\n",
        "else:\n",
        "    print('GPU is not available. Using CPU for OCR.')\n",
        "    device = 'cpu'\n",
        "\n",
        "# initialize EasyOCR reader (only once)\n",
        "reader = easyocr.Reader(['en'], gpu=True if device == 'cuda' else False)"
      ]
    },
    {
      "cell_type": "markdown",
      "metadata": {
        "id": "N9oSb_lxOAlE"
      },
      "source": [
        "### Main Execution: work through the entire dataset in batches"
      ]
    },
    {
      "cell_type": "code",
      "execution_count": null,
      "metadata": {
        "colab": {
          "base_uri": "https://localhost:8080/"
        },
        "id": "d5klg3mrS-gV",
        "outputId": "2acbf8b2-51f4-410e-d992-82a16afe8bf6"
      },
      "outputs": [
        {
          "output_type": "stream",
          "name": "stderr",
          "text": [
            "Processing Batches:   0%|          | 0/54 [00:00<?, ?it/s]\n",
            "Processing Files 1-20:   0%|          | 0/20 [00:00<?, ?it/s]\u001b[A\n",
            "Processing Files 1-20:   5%|▌         | 1/20 [01:59<37:54, 119.73s/it]\u001b[A"
          ]
        },
        {
          "output_type": "stream",
          "name": "stdout",
          "text": [
            "OCR used for ARCD.P0745US.P1 - 11_8_21 Efiled Provisional Application, ADS, EFS Ack Receipt.PDF-!!-6374506.PDF\n"
          ]
        },
        {
          "output_type": "stream",
          "name": "stderr",
          "text": [
            "\n",
            "Processing Files 1-20:  10%|█         | 2/20 [04:25<40:33, 135.17s/it]\u001b[A"
          ]
        },
        {
          "output_type": "stream",
          "name": "stdout",
          "text": [
            "OCR used for ARCD.P0744US.P1 - 11_09_21  Efiled Provisional Application, ADS, EFS Ack Receipt.PDF-!!-6388967.PDF\n"
          ]
        },
        {
          "output_type": "stream",
          "name": "stderr",
          "text": [
            "\n",
            "Processing Files 1-20:  15%|█▌        | 3/20 [07:28<44:27, 156.92s/it]\u001b[A"
          ]
        },
        {
          "output_type": "stream",
          "name": "stdout",
          "text": [
            "OCR used for ARCD.P0724US.P1 - 11_10_21  Efiled Provisional Application, ADS, EFS Ack Receipt.PDF-!!-6390039.PDF\n"
          ]
        },
        {
          "output_type": "stream",
          "name": "stderr",
          "text": [
            "\n",
            "Processing Files 1-20:  20%|██        | 4/20 [07:41<26:41, 100.12s/it]\u001b[A\n",
            "Processing Files 1-20:  25%|██▌       | 5/20 [15:48<59:53, 239.56s/it]\u001b[A"
          ]
        },
        {
          "output_type": "stream",
          "name": "stdout",
          "text": [
            "OCR used for ARCD.P0752US.P1 - 2021-11-16 - Filed US Provisional Application.PDF-!!-6409967.PDF\n"
          ]
        },
        {
          "output_type": "stream",
          "name": "stderr",
          "text": [
            "\n",
            "Processing Files 1-20:  30%|███       | 6/20 [15:49<36:59, 158.56s/it]\u001b[A\n",
            "Processing Files 1-20:  35%|███▌      | 7/20 [15:51<23:13, 107.18s/it]\u001b[A\n",
            "Processing Files 1-20:  40%|████      | 8/20 [16:23<16:41, 83.43s/it] \u001b[A"
          ]
        },
        {
          "output_type": "stream",
          "name": "stdout",
          "text": [
            "OCR used for ARCD.P0716US.P1 - 2021-11-22 - Filed Request to Correct Applicant.PDF-!!-6429332.PDF\n"
          ]
        },
        {
          "output_type": "stream",
          "name": "stderr",
          "text": [
            "\n",
            "Processing Files 1-20:  45%|████▌     | 9/20 [16:57<12:26, 67.84s/it]\u001b[A\n",
            "Processing Files 1-20:  50%|█████     | 10/20 [17:34<09:44, 58.41s/it]\u001b[A"
          ]
        },
        {
          "output_type": "stream",
          "name": "stdout",
          "text": [
            "OCR used for ARCD.P0715US.P1 - 2021-12-02 - Filed Request for Correction of Inventors and Applicants.PDF-!!-6456573.PDF\n"
          ]
        },
        {
          "output_type": "stream",
          "name": "stderr",
          "text": [
            "\n",
            "Processing Files 1-20:  55%|█████▌    | 11/20 [28:26<36:00, 240.08s/it]\u001b[A"
          ]
        },
        {
          "output_type": "stream",
          "name": "stdout",
          "text": [
            "OCR used for ARCD.P0715WO - 2021-12-03 - Filed PCT Application.PDF-!!-6461712.PDF\n"
          ]
        },
        {
          "output_type": "stream",
          "name": "stderr",
          "text": [
            "\n",
            "Processing Files 1-20:  60%|██████    | 12/20 [28:52<23:19, 174.98s/it]\u001b[A\n",
            "Processing Files 1-20:  65%|██████▌   | 13/20 [28:55<14:20, 122.92s/it]\u001b[A"
          ]
        },
        {
          "output_type": "stream",
          "name": "stdout",
          "text": [
            "OCR used for ARCD.P0712WO - 2021-11-30 - Official Filing Receipt.PDF-!!-6483593.PDF\n"
          ]
        },
        {
          "output_type": "stream",
          "name": "stderr",
          "text": [
            "\n",
            "Processing Files 1-20:  70%|███████   | 14/20 [29:08<08:57, 89.60s/it] \u001b[A\n",
            "Processing Files 1-20:  75%|███████▌  | 15/20 [29:14<05:22, 64.51s/it]\u001b[A"
          ]
        },
        {
          "output_type": "stream",
          "name": "stdout",
          "text": [
            "OCR used for ARCD.P0715US.P1_12_07_2021_Updated Filing Receipt.pdf-!!-6554561.pdf\n"
          ]
        },
        {
          "output_type": "stream",
          "name": "stderr",
          "text": [
            "\n",
            "Processing Files 1-20:  80%|████████  | 16/20 [29:16<03:02, 45.69s/it]\u001b[A"
          ]
        },
        {
          "output_type": "stream",
          "name": "stdout",
          "text": [
            "OCR used for ARCD.P0715US.P1_12_07_2021_Acceptance of Request to correct inventorship....pdf-!!-6554568.pdf\n"
          ]
        },
        {
          "output_type": "stream",
          "name": "stderr",
          "text": [
            "\n",
            "Processing Files 1-20:  85%|████████▌ | 17/20 [29:22<01:41, 33.68s/it]\u001b[A"
          ]
        },
        {
          "output_type": "stream",
          "name": "stdout",
          "text": [
            "OCR used for ARCD.P0753US.P1_11_10_2021_Filing Receipt.pdf-!!-6554616.pdf\n"
          ]
        },
        {
          "output_type": "stream",
          "name": "stderr",
          "text": [
            "\n",
            "Processing Files 1-20:  90%|█████████ | 18/20 [32:04<02:24, 72.20s/it]\u001b[A\n",
            "Processing Files 1-20:  95%|█████████▌| 19/20 [32:07<00:51, 51.43s/it]\u001b[A"
          ]
        },
        {
          "output_type": "stream",
          "name": "stdout",
          "text": [
            "OCR used for ARCD.P0713WO - 2021-12-31 - Official Filing Receipt.PDF-!!-6571824.PDF\n"
          ]
        },
        {
          "output_type": "stream",
          "name": "stderr",
          "text": [
            "\n",
            "Processing Files 1-20: 100%|██████████| 20/20 [32:10<00:00, 37.00s/it]\u001b[A\n",
            "                                                                      \u001b[A"
          ]
        },
        {
          "output_type": "stream",
          "name": "stdout",
          "text": [
            "OCR used for ARCD.P0720WO - 2021-12-29 - Official Filling Receipt.PDF-!!-6594656.PDF\n"
          ]
        },
        {
          "output_type": "stream",
          "name": "stderr",
          "text": [
            "Processing Batches:   2%|▏         | 1/54 [32:11<28:25:45, 1931.05s/it]\n",
            "Processing Files 21-40:   0%|          | 0/20 [00:00<?, ?it/s]\u001b[A\n",
            "Processing Files 21-40:   5%|▌         | 1/20 [00:13<04:24, 13.90s/it]\u001b[A"
          ]
        },
        {
          "output_type": "stream",
          "name": "stdout",
          "text": [
            "OCR used for ARCD.P0720WO - 2021-12-29 - Invitation to Correct Defects and Figs 5E-H on Record.PDF-!!-6594814.PDF\n"
          ]
        },
        {
          "output_type": "stream",
          "name": "stderr",
          "text": [
            "\n",
            "Processing Files 21-40:  10%|█         | 2/20 [00:20<02:48,  9.36s/it]\u001b[A"
          ]
        },
        {
          "output_type": "stream",
          "name": "stdout",
          "text": [
            "OCR used for ARCD.P0745US.P1_11_15_2021_Filing Receipt.pdf-!!-6602949.pdf\n"
          ]
        },
        {
          "output_type": "stream",
          "name": "stderr",
          "text": [
            "\n",
            "Processing Files 21-40:  15%|█▌        | 3/20 [00:27<02:22,  8.40s/it]\u001b[A"
          ]
        },
        {
          "output_type": "stream",
          "name": "stdout",
          "text": [
            "OCR used for ARCD.P0724US.P1_11_18_2021_Filing Receipt.pdf-!!-6602963.pdf\n"
          ]
        },
        {
          "output_type": "stream",
          "name": "stderr",
          "text": [
            "\n",
            "Processing Files 21-40:  20%|██        | 4/20 [00:33<01:58,  7.39s/it]\u001b[A"
          ]
        },
        {
          "output_type": "stream",
          "name": "stdout",
          "text": [
            "OCR used for ARCD.P0744US.P1_11_18_2021_Filing Receipt.pdf-!!-6602970.pdf\n"
          ]
        },
        {
          "output_type": "stream",
          "name": "stderr",
          "text": [
            "\n",
            "Processing Files 21-40:  25%|██▌       | 5/20 [00:40<01:47,  7.19s/it]\u001b[A"
          ]
        },
        {
          "output_type": "stream",
          "name": "stdout",
          "text": [
            "OCR used for ARCD.P0740US.P1_12_20_2021_Filing Receipt.pdf-!!-6603253.pdf\n"
          ]
        },
        {
          "output_type": "stream",
          "name": "stderr",
          "text": [
            "\n",
            "Processing Files 21-40:  30%|███       | 6/20 [00:42<01:20,  5.74s/it]\u001b[A"
          ]
        },
        {
          "output_type": "stream",
          "name": "stdout",
          "text": [
            "OCR used for ARCD.P0715WO - 2021-12-28 - Filing Receipt.PDF-!!-6603285.PDF\n"
          ]
        },
        {
          "output_type": "stream",
          "name": "stderr",
          "text": [
            "\n",
            "Processing Files 21-40:  35%|███▌      | 7/20 [00:46<01:06,  5.09s/it]\u001b[A"
          ]
        },
        {
          "output_type": "stream",
          "name": "stdout",
          "text": [
            "OCR used for ARCD.P0725EP - 2021-10-05 - Unpaid Annuity Notification.PDF-!!-6683804.PDF\n"
          ]
        },
        {
          "output_type": "stream",
          "name": "stderr",
          "text": [
            "\n",
            "Processing Files 21-40:  40%|████      | 8/20 [03:21<10:33, 52.83s/it]\u001b[A"
          ]
        },
        {
          "output_type": "stream",
          "name": "stdout",
          "text": [
            "OCR used for ARCD.P0756US.P1 - 01_06_22 Efiled Provisional Application, ADS, Seq Listing, EFS Ack Receipt.PDF-!!-6691268.PDF\n"
          ]
        },
        {
          "output_type": "stream",
          "name": "stderr",
          "text": [
            "\n",
            "Processing Files 21-40:  45%|████▌     | 9/20 [03:25<06:52, 37.50s/it]\u001b[A\n",
            "Processing Files 21-40:  50%|█████     | 10/20 [03:29<04:31, 27.11s/it]\u001b[A"
          ]
        },
        {
          "output_type": "stream",
          "name": "stdout",
          "text": [
            "OCR used for ARCD.P0713WO - 2021-12-31 - Invite to Furnish Sequence Listing.PDF-!!-6731425.PDF\n"
          ]
        },
        {
          "output_type": "stream",
          "name": "stderr",
          "text": [
            "\n",
            "Processing Files 21-40:  55%|█████▌    | 11/20 [03:30<02:53, 19.24s/it]\u001b[A\n",
            "Processing Files 21-40:  60%|██████    | 12/20 [03:38<02:05, 15.64s/it]\u001b[A"
          ]
        },
        {
          "output_type": "stream",
          "name": "stdout",
          "text": [
            "OCR used for ARCD.P0754US.P1_12_01_2021_Filing Receipt.pdf-!!-6760993.pdf\n"
          ]
        },
        {
          "output_type": "stream",
          "name": "stderr",
          "text": [
            "\n",
            "Processing Files 21-40:  65%|██████▌   | 13/20 [03:44<01:28, 12.70s/it]\u001b[A"
          ]
        },
        {
          "output_type": "stream",
          "name": "stdout",
          "text": [
            "OCR used for ARCD.P0752US.P1_11_23_2021_Filing Receipt.pdf-!!-6761196.pdf\n"
          ]
        },
        {
          "output_type": "stream",
          "name": "stderr",
          "text": [
            "\n",
            "Processing Files 21-40:  70%|███████   | 14/20 [03:51<01:05, 11.00s/it]\u001b[A"
          ]
        },
        {
          "output_type": "stream",
          "name": "stdout",
          "text": [
            "OCR used for ARCD.P0756US.P1_01_19_2022_Filing Receipt.pdf-!!-6762498.pdf\n"
          ]
        },
        {
          "output_type": "stream",
          "name": "stderr",
          "text": [
            "\n",
            "Processing Files 21-40:  75%|███████▌  | 15/20 [03:57<00:47,  9.51s/it]\u001b[A"
          ]
        },
        {
          "output_type": "stream",
          "name": "stdout",
          "text": [
            "OCR used for ARCD.P0759US.P1_12_30_2021_Filing Receipt.pdf-!!-6763210.pdf\n"
          ]
        },
        {
          "output_type": "stream",
          "name": "stderr",
          "text": [
            "\n",
            "Processing Files 21-40:  80%|████████  | 16/20 [03:58<00:27,  6.94s/it]\u001b[A\n",
            "Processing Files 21-40:  85%|████████▌ | 17/20 [04:35<00:48, 16.09s/it]\u001b[A\n",
            "Processing Files 21-40:  90%|█████████ | 18/20 [05:00<00:37, 18.64s/it]\u001b[A\n",
            "Processing Files 21-40:  95%|█████████▌| 19/20 [05:06<00:14, 14.95s/it]\u001b[A\n",
            "Processing Files 21-40: 100%|██████████| 20/20 [05:13<00:00, 12.57s/it]\u001b[A\n",
            "                                                                       \u001b[A"
          ]
        },
        {
          "output_type": "stream",
          "name": "stdout",
          "text": [
            "OCR used for ARCD.P0755US.P1_11_18_2021_Filing Receipt.pdf-!!-6829258.pdf\n"
          ]
        },
        {
          "output_type": "stream",
          "name": "stderr",
          "text": [
            "Processing Batches:   4%|▎         | 2/54 [37:24<14:09:04, 979.70s/it] \n",
            "Processing Files 41-60:   0%|          | 0/20 [00:00<?, ?it/s]\u001b[A\n",
            "Processing Files 41-60:   5%|▌         | 1/20 [00:27<08:40, 27.39s/it]\u001b[A"
          ]
        },
        {
          "output_type": "stream",
          "name": "stdout",
          "text": [
            "OCR used for ARCD.P0755US.P1 - 11_10_21 Efiled Provisonal Application, ADS, EFS Ack Receipt.PDF-!!-6829469.PDF\n"
          ]
        },
        {
          "output_type": "stream",
          "name": "stderr",
          "text": [
            "\n",
            "Processing Files 41-60:  10%|█         | 2/20 [05:27<56:19, 187.74s/it]\u001b[A"
          ]
        },
        {
          "output_type": "stream",
          "name": "stdout",
          "text": [
            "OCR used for ARCD.P0763US.P1 - 02_18_22 Efiled Provisional Application, ADS, Seq Listing, EFS Ack Receipt.PDF-!!-6829660.PDF\n"
          ]
        },
        {
          "output_type": "stream",
          "name": "stderr",
          "text": [
            "\n",
            "Processing Files 41-60:  15%|█▌        | 3/20 [05:31<29:28, 104.02s/it]\u001b[A"
          ]
        },
        {
          "output_type": "stream",
          "name": "stdout",
          "text": [
            "OCR used for ARCD.P0722US.P1 & ARCD.P0722US.P2 - 2022-02-22 - Filed Assignment - RAMAN to UChicago.PDF-!!-6840826.PDF\n"
          ]
        },
        {
          "output_type": "stream",
          "name": "stderr",
          "text": [
            "\n",
            "Processing Files 41-60:  20%|██        | 4/20 [05:38<17:30, 65.68s/it] \u001b[A"
          ]
        },
        {
          "output_type": "stream",
          "name": "stdout",
          "text": [
            "OCR used for ARCD.P0722US.P1 & ARCD.P0722US.P2 - 2022-02-22 - Filed Assignment - ZAYDMAN to Washington University.PDF-!!-6840834.PDF\n"
          ]
        },
        {
          "output_type": "stream",
          "name": "stderr",
          "text": [
            "\n",
            "Processing Files 41-60:  25%|██▌       | 5/20 [05:48<11:22, 45.51s/it]\u001b[A"
          ]
        },
        {
          "output_type": "stream",
          "name": "stdout",
          "text": [
            "OCR used for ARCD.P0761US.P1 Figures V2.pdf-!!-6842545.pdf\n"
          ]
        },
        {
          "output_type": "stream",
          "name": "stderr",
          "text": [
            "\n",
            "Processing Files 41-60:  30%|███       | 6/20 [05:53<07:26, 31.92s/it]\u001b[A"
          ]
        },
        {
          "output_type": "stream",
          "name": "stdout",
          "text": [
            "OCR used for ARCD.P0743US.P1 - 2022-02-23 - Filed Assignment.PDF-!!-6845939.PDF\n"
          ]
        },
        {
          "output_type": "stream",
          "name": "stderr",
          "text": [
            "\n",
            "Processing Files 41-60:  35%|███▌      | 7/20 [06:00<05:05, 23.49s/it]\u001b[A"
          ]
        },
        {
          "output_type": "stream",
          "name": "stdout",
          "text": [
            "OCR used for ARCD.P0748US.P1_01_12_2022_Filing Receipt.pdf-!!-6846147.pdf\n"
          ]
        },
        {
          "output_type": "stream",
          "name": "stderr",
          "text": [
            "\n",
            "Processing Files 41-60:  40%|████      | 8/20 [09:17<15:46, 78.83s/it]\u001b[A"
          ]
        },
        {
          "output_type": "stream",
          "name": "stdout",
          "text": [
            "OCR used for ARCD.P0731US.P2 - 02_23_22 Efiled Provisional Application, ADS, EFS Ack Receipt.PDF-!!-6846688.PDF\n"
          ]
        },
        {
          "output_type": "stream",
          "name": "stderr",
          "text": [
            "\n",
            "Processing Files 41-60:  45%|████▌     | 9/20 [09:18<10:00, 54.59s/it]\u001b[A\n",
            "Processing Files 41-60:  50%|█████     | 10/20 [09:20<06:21, 38.16s/it]\u001b[A\n",
            "Processing Files 41-60:  55%|█████▌    | 11/20 [09:21<04:01, 26.88s/it]\u001b[A\n",
            "Processing Files 41-60:  60%|██████    | 12/20 [09:33<02:58, 22.30s/it]\u001b[A"
          ]
        },
        {
          "output_type": "stream",
          "name": "stdout",
          "text": [
            "OCR used for ARCD.P0715WO - 2022-02-14 - Invitation to Pay Additional Search Fees.PDF-!!-6878099.PDF\n"
          ]
        },
        {
          "output_type": "stream",
          "name": "stderr",
          "text": [
            "\n",
            "Processing Files 41-60:  65%|██████▌   | 13/20 [11:37<06:13, 53.30s/it]\u001b[A"
          ]
        },
        {
          "output_type": "stream",
          "name": "stdout",
          "text": [
            "OCR used for ARCD.P0758US.P1 - 02_25_22  Efiled Provisional Application, ADS, EFS Ack Receipt.PDF-!!-6878201.PDF\n"
          ]
        },
        {
          "output_type": "stream",
          "name": "stderr",
          "text": [
            "\n",
            "Processing Files 41-60:  70%|███████   | 14/20 [11:45<03:56, 39.45s/it]\u001b[A"
          ]
        },
        {
          "output_type": "stream",
          "name": "stdout",
          "text": [
            "OCR used for ARCD.P0748US.P1 (2022.02.18) Efiled Express Abandonment.PDF-!!-6885570.PDF\n"
          ]
        },
        {
          "output_type": "stream",
          "name": "stderr",
          "text": [
            "\n",
            "Processing Files 41-60:  75%|███████▌  | 15/20 [13:50<05:26, 65.23s/it]\u001b[A"
          ]
        },
        {
          "output_type": "stream",
          "name": "stdout",
          "text": [
            "OCR used for ARCD.P0758US.P1 - 02_25_22  Efiled Provisional Application, ADS, EFS Ack Receipt.pdf-!!-6890108.pdf\n"
          ]
        },
        {
          "output_type": "stream",
          "name": "stderr",
          "text": [
            "\n",
            "Processing Files 41-60:  80%|████████  | 16/20 [13:57<03:10, 47.69s/it]\u001b[A"
          ]
        },
        {
          "output_type": "stream",
          "name": "stdout",
          "text": [
            "OCR used for ARCD.P0731US.P2_03_04_2022_Filing Receipt.pdf-!!-6896886.pdf\n"
          ]
        },
        {
          "output_type": "stream",
          "name": "stderr",
          "text": [
            "\n",
            "Processing Files 41-60:  85%|████████▌ | 17/20 [14:27<02:07, 42.43s/it]\u001b[A"
          ]
        },
        {
          "output_type": "stream",
          "name": "stdout",
          "text": [
            "OCR used for ARCD.P0720WO - 2022-02-23 - International Search Report and 1st Written Opinion.PDF-!!-6899334.PDF\n"
          ]
        },
        {
          "output_type": "stream",
          "name": "stderr",
          "text": [
            "\n",
            "Processing Files 41-60:  90%|█████████ | 18/20 [14:32<01:02, 31.22s/it]\u001b[A"
          ]
        },
        {
          "output_type": "stream",
          "name": "stdout",
          "text": [
            "OCR used for ARCD.P0724US.P1 - 2022-03-07 - Filed Assignment.PDF-!!-6900093.PDF\n"
          ]
        },
        {
          "output_type": "stream",
          "name": "stderr",
          "text": [
            "\n",
            "Processing Files 41-60:  95%|█████████▌| 19/20 [14:38<00:23, 23.59s/it]\u001b[A"
          ]
        },
        {
          "output_type": "stream",
          "name": "stdout",
          "text": [
            "OCR used for ARCD.P0736US.P1 - 2022-03-07 - Filed Assignment.PDF-!!-6900207.PDF\n"
          ]
        },
        {
          "output_type": "stream",
          "name": "stderr",
          "text": [
            "\n",
            "Processing Files 41-60: 100%|██████████| 20/20 [14:39<00:00, 16.90s/it]\u001b[A\n",
            "Processing Batches:   6%|▌         | 3/54 [52:04<13:14:00, 934.13s/it]\n",
            "Processing Files 61-80:   0%|          | 0/20 [00:00<?, ?it/s]\u001b[A\n",
            "Processing Files 61-80:   5%|▌         | 1/20 [00:01<00:22,  1.19s/it]\u001b[A\n",
            "Processing Files 61-80:  10%|█         | 2/20 [00:05<00:53,  2.97s/it]\u001b[A\n",
            "Processing Files 61-80:  15%|█▌        | 3/20 [02:29<19:08, 67.54s/it]\u001b[A"
          ]
        },
        {
          "output_type": "stream",
          "name": "stdout",
          "text": [
            "OCR used for ARCD.P0722WO - 2022-03-16 - Filed PCT Application.pdf-!!-6942260.pdf\n"
          ]
        },
        {
          "output_type": "stream",
          "name": "stderr",
          "text": [
            "\n",
            "Processing Files 61-80:  20%|██        | 4/20 [03:24<16:38, 62.43s/it]\u001b[A"
          ]
        },
        {
          "output_type": "stream",
          "name": "stdout",
          "text": [
            "OCR used for ARCD.P0765US.P1 - EFILED ADS_ Provisional Application_ Fee & Acknowledge....pdf-!!-6946351.pdf\n"
          ]
        },
        {
          "output_type": "stream",
          "name": "stderr",
          "text": [
            "\n",
            "Processing Files 61-80:  25%|██▌       | 5/20 [03:30<10:29, 42.00s/it]\u001b[A"
          ]
        },
        {
          "output_type": "stream",
          "name": "stdout",
          "text": [
            "OCR used for ARCD.P0754US.P1 - 2022-03-19 - Filed Assignment.pdf-!!-6953730.pdf\n"
          ]
        },
        {
          "output_type": "stream",
          "name": "stderr",
          "text": [
            "\n",
            "Processing Files 61-80:  30%|███       | 6/20 [03:42<07:26, 31.89s/it]\u001b[A"
          ]
        },
        {
          "output_type": "stream",
          "name": "stdout",
          "text": [
            "OCR used for ARCD.P0716WO Figures (B&W).pdf-!!-6974353.pdf\n"
          ]
        },
        {
          "output_type": "stream",
          "name": "stderr",
          "text": [
            "\n",
            "Processing Files 61-80:  35%|███▌      | 7/20 [03:43<04:44, 21.88s/it]\u001b[A\n",
            "Processing Files 61-80:  40%|████      | 8/20 [03:58<03:53, 19.49s/it]\u001b[A"
          ]
        },
        {
          "output_type": "stream",
          "name": "stdout",
          "text": [
            "OCR used for ARCD.P0716WO [22-T-044] PCT Figures - FINAL.pdf-!!-6992716.pdf\n"
          ]
        },
        {
          "output_type": "stream",
          "name": "stderr",
          "text": [
            "\n",
            "Processing Files 61-80:  45%|████▌     | 9/20 [04:07<03:00, 16.43s/it]\u001b[A\n",
            "Processing Files 61-80:  50%|█████     | 10/20 [04:15<02:16, 13.61s/it]\u001b[A"
          ]
        },
        {
          "output_type": "stream",
          "name": "stdout",
          "text": [
            "OCR used for ARCD.P0758US.P1_03_04_2022_Filing Receipt.pdf-!!-7005344.pdf\n"
          ]
        },
        {
          "output_type": "stream",
          "name": "stderr",
          "text": [
            "\n",
            "Processing Files 61-80:  55%|█████▌    | 11/20 [04:21<01:41, 11.29s/it]\u001b[A"
          ]
        },
        {
          "output_type": "stream",
          "name": "stdout",
          "text": [
            "OCR used for ARCD.P0765US.P1_03_25_2022_Filing Receipt.pdf-!!-7005433.pdf\n"
          ]
        },
        {
          "output_type": "stream",
          "name": "stderr",
          "text": [
            "\n",
            "Processing Files 61-80:  60%|██████    | 12/20 [04:28<01:20, 10.02s/it]\u001b[A"
          ]
        },
        {
          "output_type": "stream",
          "name": "stdout",
          "text": [
            "OCR used for ARCD.P0763US.P1_02_25_2022_Filing Receipt.pdf-!!-7005753.pdf\n"
          ]
        },
        {
          "output_type": "stream",
          "name": "stderr",
          "text": [
            "\n",
            "Processing Files 61-80:  65%|██████▌   | 13/20 [04:29<00:52,  7.48s/it]\u001b[A"
          ]
        },
        {
          "output_type": "stream",
          "name": "stdout",
          "text": [
            "OCR used for ARCD.P0748US.P1_03_08_2022_Notice of Abandonment.pdf-!!-7005793.pdf\n"
          ]
        }
      ],
      "source": [
        "# batch processing\n",
        "batch_size = 20\n",
        "metadata = load_metadata(metadata_file)\n",
        "pdf_files = [f for f in os.listdir(pdf_folder) if f.lower().endswith('.pdf')]\n",
        "start_index = metadata['last_processed_index'] + 1\n",
        "total_files = len(pdf_files)\n",
        "\n",
        "all_data = []\n",
        "if os.path.exists(output_csv): # if the file exists, load its data\n",
        "  all_data = pd.read_csv(output_csv).to_dict(orient='records')\n",
        "\n",
        "for i in tqdm(range(start_index, total_files, batch_size), desc='Processing Batches'):\n",
        "  batch_end = min(i + batch_size, total_files)\n",
        "  batch_files = pdf_files[i:batch_end]\n",
        "  batch_data = []\n",
        "\n",
        "  for filename in tqdm(batch_files, desc=f'Processing Files {i+1}-{batch_end}', leave=False):\n",
        "    # check if current filename is already present in all_data list (which is populated from the CSV if it exists)\n",
        "    # if filename is found, skip the processing for that file and move to the next one.\n",
        "    if filename in [d['filename'] for d in all_data]:\n",
        "      continue\n",
        "    pdf_path = os.path.join(pdf_folder, filename)\n",
        "    text = extract_text_with_pdfplumber(pdf_path)\n",
        "    ocr_text = ''\n",
        "\n",
        "    if not text.strip() or len(text.split()) < 200: # if pdfplumber's text was < 200 words, try OCR\n",
        "      ocr_text = extract_text_with_ocr(pdf_path)\n",
        "      if not ocr_text:\n",
        "        print(f'Could not extract text from {filename}')\n",
        "      else:\n",
        "        print(f'OCR used for {filename}')\n",
        "\n",
        "    batch_data.append({'filename': filename, 'text': text, 'ocr_text': ocr_text})\n",
        "\n",
        "  all_data.extend(batch_data)\n",
        "  df = pd.DataFrame(all_data)\n",
        "  df.to_csv(output_csv, index=False)\n",
        "\n",
        "  metadata['processed_files'].extend([f['filename'] for f in batch_data])\n",
        "  metadata['last_processed_index'] = batch_end -1\n",
        "  save_metadata(metadata, metadata_file)\n",
        "\n",
        "print('\\nfinished processing all files')"
      ]
    },
    {
      "cell_type": "markdown",
      "source": [
        "### Inspect text extraction results"
      ],
      "metadata": {
        "id": "r5Q7BUsNcbn7"
      }
    },
    {
      "cell_type": "code",
      "source": [
        "df = pd.read_csv(output_csv)"
      ],
      "metadata": {
        "id": "Nqn2sT3ZTpSW"
      },
      "execution_count": null,
      "outputs": []
    },
    {
      "cell_type": "code",
      "source": [
        "# Find rows where 'text' is empty - make sure we're capturing data with OCR in those cases\n",
        "empty_text_rows = df[df['text'].isnull()]\n",
        "empty_text_rows"
      ],
      "metadata": {
        "id": "VJb0alzirr6y"
      },
      "execution_count": null,
      "outputs": []
    },
    {
      "cell_type": "code",
      "source": [
        "# make a copy of 'df' and sort it by the length of the 'text' column (low to high)\n",
        "\n",
        "df_copy = df.copy()\n",
        "df_sorted = df_copy.sort_values(by='text', key=lambda x: x.str.len())\n",
        "df_sorted['text_length'] = df_sorted['text'].apply(lambda x: len(str(x).split()))\n",
        "df_sorted['ocr_text_length'] = df_sorted['ocr_text'].apply(lambda x: len(str(x).split()))"
      ],
      "metadata": {
        "id": "NHLe04NKUGJ0"
      },
      "execution_count": null,
      "outputs": []
    },
    {
      "cell_type": "code",
      "source": [
        "df_sorted.head(20)"
      ],
      "metadata": {
        "id": "SbfANWR2ZD7i"
      },
      "execution_count": null,
      "outputs": []
    },
    {
      "cell_type": "code",
      "source": [],
      "metadata": {
        "id": "gHLwuyIIctW3"
      },
      "execution_count": null,
      "outputs": []
    }
  ],
  "metadata": {
    "colab": {
      "provenance": []
    },
    "kernelspec": {
      "display_name": "Python 3",
      "name": "python3"
    },
    "language_info": {
      "name": "python"
    }
  },
  "nbformat": 4,
  "nbformat_minor": 0
}